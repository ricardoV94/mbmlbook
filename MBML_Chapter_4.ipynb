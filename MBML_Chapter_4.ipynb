{
  "nbformat": 4,
  "nbformat_minor": 0,
  "metadata": {
    "colab": {
      "name": "MBML Chapter 4",
      "version": "0.3.2",
      "provenance": [],
      "collapsed_sections": [],
      "include_colab_link": true
    },
    "kernelspec": {
      "name": "python3",
      "display_name": "Python 3"
    }
  },
  "cells": [
    {
      "cell_type": "markdown",
      "metadata": {
        "id": "view-in-github",
        "colab_type": "text"
      },
      "source": [
        "<a href=\"https://colab.research.google.com/github/ricardoV94/mbmlbook/blob/master/MBML_Chapter_4.ipynb\" target=\"_parent\"><img src=\"https://colab.research.google.com/assets/colab-badge.svg\" alt=\"Open In Colab\"/></a>"
      ]
    },
    {
      "cell_type": "code",
      "metadata": {
        "id": "gtj765Ihgm-W",
        "colab_type": "code",
        "colab": {}
      },
      "source": [
        "import numpy as np\n",
        "import pymc3 as pm\n",
        "import theano\n",
        "import theano.tensor as tt\n",
        "\n",
        "import pandas as pd\n",
        "import scipy.stats as st\n",
        "import matplotlib.pyplot as plt\n",
        "import seaborn as sns\n",
        "\n",
        "from tqdm import tqdm\n",
        "\n",
        "plt.rcParams.update({'font.size': 16})\n",
        "plt.rcParams.update({'figure.figsize': (8,6)})"
      ],
      "execution_count": 0,
      "outputs": []
    },
    {
      "cell_type": "code",
      "metadata": {
        "id": "63RjhhYRgy6r",
        "colab_type": "code",
        "outputId": "541d7f8f-f0eb-4702-c9a9-3093b4d9e6fc",
        "colab": {
          "base_uri": "https://localhost:8080/",
          "height": 439
        }
      },
      "source": [
        "try:\n",
        "    import arviz\n",
        "except ImportError:\n",
        "    !pip install arviz\n",
        "    \n",
        "import logging\n",
        "logger = logging.getLogger('pymc3')\n",
        "logger.propagate = False\n",
        "logger.setLevel(logging.ERROR)"
      ],
      "execution_count": 2,
      "outputs": [
        {
          "output_type": "stream",
          "text": [
            "Collecting arviz\n",
            "\u001b[?25l  Downloading https://files.pythonhosted.org/packages/78/a9/32de4a85f023a9b62b0bcc32606c371893ac3fb5c96777d8cf646b4e6b67/arviz-0.4.1-py3-none-any.whl (1.3MB)\n",
            "\u001b[K     |████████████████████████████████| 1.3MB 4.9MB/s \n",
            "\u001b[?25hRequirement already satisfied: pandas in /usr/local/lib/python3.6/dist-packages (from arviz) (0.24.2)\n",
            "Requirement already satisfied: numpy in /usr/local/lib/python3.6/dist-packages (from arviz) (1.16.4)\n",
            "Requirement already satisfied: scipy in /usr/local/lib/python3.6/dist-packages (from arviz) (1.3.0)\n",
            "Collecting netcdf4 (from arviz)\n",
            "\u001b[?25l  Downloading https://files.pythonhosted.org/packages/48/94/eacbf790ceb237bee5db9c54e7c225ff0898d6dd496166a21d7c57254eb5/netCDF4-1.5.1.2-cp36-cp36m-manylinux1_x86_64.whl (4.1MB)\n",
            "\u001b[K     |████████████████████████████████| 4.1MB 41.0MB/s \n",
            "\u001b[?25hRequirement already satisfied: xarray in /usr/local/lib/python3.6/dist-packages (from arviz) (0.11.3)\n",
            "Requirement already satisfied: matplotlib>=3.0 in /usr/local/lib/python3.6/dist-packages (from arviz) (3.0.3)\n",
            "Requirement already satisfied: python-dateutil>=2.5.0 in /usr/local/lib/python3.6/dist-packages (from pandas->arviz) (2.5.3)\n",
            "Requirement already satisfied: pytz>=2011k in /usr/local/lib/python3.6/dist-packages (from pandas->arviz) (2018.9)\n",
            "Collecting cftime (from netcdf4->arviz)\n",
            "\u001b[?25l  Downloading https://files.pythonhosted.org/packages/70/64/8ceadda42af3c1b27ee77005807e38c6d77baef28a8f9216b60577fddd71/cftime-1.0.3.4-cp36-cp36m-manylinux1_x86_64.whl (305kB)\n",
            "\u001b[K     |████████████████████████████████| 307kB 41.0MB/s \n",
            "\u001b[?25hRequirement already satisfied: kiwisolver>=1.0.1 in /usr/local/lib/python3.6/dist-packages (from matplotlib>=3.0->arviz) (1.1.0)\n",
            "Requirement already satisfied: pyparsing!=2.0.4,!=2.1.2,!=2.1.6,>=2.0.1 in /usr/local/lib/python3.6/dist-packages (from matplotlib>=3.0->arviz) (2.4.0)\n",
            "Requirement already satisfied: cycler>=0.10 in /usr/local/lib/python3.6/dist-packages (from matplotlib>=3.0->arviz) (0.10.0)\n",
            "Requirement already satisfied: six>=1.5 in /usr/local/lib/python3.6/dist-packages (from python-dateutil>=2.5.0->pandas->arviz) (1.12.0)\n",
            "Requirement already satisfied: setuptools in /usr/local/lib/python3.6/dist-packages (from kiwisolver>=1.0.1->matplotlib>=3.0->arviz) (41.0.1)\n",
            "Installing collected packages: cftime, netcdf4, arviz\n",
            "Successfully installed arviz-0.4.1 cftime-1.0.3.4 netcdf4-1.5.1.2\n"
          ],
          "name": "stdout"
        }
      ]
    },
    {
      "cell_type": "markdown",
      "metadata": {
        "id": "Vv0sYvJvjerX",
        "colab_type": "text"
      },
      "source": [
        "\n",
        "\n",
        "---\n",
        "\n",
        "##   4.2 A model for classification "
      ]
    },
    {
      "cell_type": "code",
      "metadata": {
        "id": "obZ868TjeRHi",
        "colab_type": "code",
        "outputId": "231e737c-f7e8-4d7d-a550-3746ab2d0030",
        "colab": {
          "base_uri": "https://localhost:8080/",
          "height": 35
        }
      },
      "source": [
        "# data\n",
        "data_toLine = np.array([0]*(19+3046) + [1]*(111+824))\n",
        "data_repliedTo = np.array([1]*19 + [0]*3046 + [1]*111 + [0]*824)\n",
        "\n",
        "[data_repliedTo[data_toLine==x].mean() for x in (0,1)]"
      ],
      "execution_count": 3,
      "outputs": [
        {
          "output_type": "execute_result",
          "data": {
            "text/plain": [
              "[0.006199021207177814, 0.11871657754010695]"
            ]
          },
          "metadata": {
            "tags": []
          },
          "execution_count": 3
        }
      ]
    },
    {
      "cell_type": "code",
      "metadata": {
        "id": "2xH9aN2Vg4h_",
        "colab_type": "code",
        "outputId": "1788240d-093d-442a-e832-02c05899cf14",
        "colab": {
          "base_uri": "https://localhost:8080/",
          "height": 345
        }
      },
      "source": [
        "with pm.Model()as model1:\n",
        "    size = data_toLine.size\n",
        "    \n",
        "    toLine = pm.Deterministic('toLine', theano.shared(data_toLine))\n",
        "    weight = pm.Normal('weight', 0, np.sqrt(1))\n",
        "    score = pm.Deterministic('score', tt.mul(toLine * weight))\n",
        "    #noisyScore = pm.Normal('noisyScore', score, np.sqrt(10), shape=size)\n",
        "    threshold = pm.Normal('threshold', 0, np.sqrt(10))\n",
        "    repliedTo = pm.Bernoulli('repliedTo', pm.math.sigmoid(score + threshold), shape=size, observed=data_repliedTo)\n",
        "\n",
        "pm.model_to_graphviz(model1)"
      ],
      "execution_count": 4,
      "outputs": [
        {
          "output_type": "execute_result",
          "data": {
            "text/plain": [
              "<graphviz.dot.Digraph at 0x7fd2402e2208>"
            ],
            "image/svg+xml": "<?xml version=\"1.0\" encoding=\"UTF-8\" standalone=\"no\"?>\n<!DOCTYPE svg PUBLIC \"-//W3C//DTD SVG 1.1//EN\"\n \"http://www.w3.org/Graphics/SVG/1.1/DTD/svg11.dtd\">\n<!-- Generated by graphviz version 2.40.1 (20161225.0304)\n -->\n<!-- Title: %3 Pages: 1 -->\n<svg width=\"388pt\" height=\"243pt\"\n viewBox=\"0.00 0.00 388.19 243.00\" xmlns=\"http://www.w3.org/2000/svg\" xmlns:xlink=\"http://www.w3.org/1999/xlink\">\n<g id=\"graph0\" class=\"graph\" transform=\"scale(1 1) rotate(0) translate(4 239)\">\n<title>%3</title>\n<polygon fill=\"#ffffff\" stroke=\"transparent\" points=\"-4,4 -4,-239 384.1926,-239 384.1926,4 -4,4\"/>\n<g id=\"clust1\" class=\"cluster\">\n<title>cluster4,000</title>\n<path fill=\"none\" stroke=\"#000000\" d=\"M20,-8C20,-8 194,-8 194,-8 200,-8 206,-14 206,-20 206,-20 206,-215 206,-215 206,-221 200,-227 194,-227 194,-227 20,-227 20,-227 14,-227 8,-221 8,-215 8,-215 8,-20 8,-20 8,-14 14,-8 20,-8\"/>\n<text text-anchor=\"middle\" x=\"181\" y=\"-15.8\" font-family=\"Times,serif\" font-size=\"14.00\" fill=\"#000000\">4,000</text>\n</g>\n<!-- repliedTo -->\n<g id=\"node1\" class=\"node\">\n<title>repliedTo</title>\n<ellipse fill=\"#d3d3d3\" stroke=\"#000000\" cx=\"107\" cy=\"-57\" rx=\"90.9839\" ry=\"18\"/>\n<text text-anchor=\"middle\" x=\"107\" y=\"-53.3\" font-family=\"Times,serif\" font-size=\"14.00\" fill=\"#000000\">repliedTo ~ Bernoulli</text>\n</g>\n<!-- score -->\n<g id=\"node2\" class=\"node\">\n<title>score</title>\n<polygon fill=\"none\" stroke=\"#000000\" points=\"183.5,-147 46.5,-147 46.5,-111 183.5,-111 183.5,-147\"/>\n<text text-anchor=\"middle\" x=\"115\" y=\"-125.3\" font-family=\"Times,serif\" font-size=\"14.00\" fill=\"#000000\">score ~ Deterministic</text>\n</g>\n<!-- score&#45;&gt;repliedTo -->\n<g id=\"edge4\" class=\"edge\">\n<title>score&#45;&gt;repliedTo</title>\n<path fill=\"none\" stroke=\"#000000\" d=\"M112.9813,-110.8314C112.1257,-103.131 111.1083,-93.9743 110.1574,-85.4166\"/>\n<polygon fill=\"#000000\" stroke=\"#000000\" points=\"113.6289,-84.9656 109.0459,-75.4133 106.6717,-85.7386 113.6289,-84.9656\"/>\n</g>\n<!-- toLine -->\n<g id=\"node3\" class=\"node\">\n<title>toLine</title>\n<polygon fill=\"none\" stroke=\"#000000\" points=\"187.5,-219 42.5,-219 42.5,-183 187.5,-183 187.5,-219\"/>\n<text text-anchor=\"middle\" x=\"115\" y=\"-197.3\" font-family=\"Times,serif\" font-size=\"14.00\" fill=\"#000000\">toLine ~ Deterministic</text>\n</g>\n<!-- toLine&#45;&gt;score -->\n<g id=\"edge2\" class=\"edge\">\n<title>toLine&#45;&gt;score</title>\n<path fill=\"none\" stroke=\"#000000\" d=\"M115,-182.8314C115,-175.131 115,-165.9743 115,-157.4166\"/>\n<polygon fill=\"#000000\" stroke=\"#000000\" points=\"118.5001,-157.4132 115,-147.4133 111.5001,-157.4133 118.5001,-157.4132\"/>\n</g>\n<!-- threshold -->\n<g id=\"node4\" class=\"node\">\n<title>threshold</title>\n<ellipse fill=\"none\" stroke=\"#000000\" cx=\"297\" cy=\"-129\" rx=\"83.3857\" ry=\"18\"/>\n<text text-anchor=\"middle\" x=\"297\" y=\"-125.3\" font-family=\"Times,serif\" font-size=\"14.00\" fill=\"#000000\">threshold ~ Normal</text>\n</g>\n<!-- threshold&#45;&gt;repliedTo -->\n<g id=\"edge3\" class=\"edge\">\n<title>threshold&#45;&gt;repliedTo</title>\n<path fill=\"none\" stroke=\"#000000\" d=\"M255.3037,-113.1993C226.9156,-102.4417 189.1385,-88.1262 158.8169,-76.6359\"/>\n<polygon fill=\"#000000\" stroke=\"#000000\" points=\"159.847,-73.2834 149.2556,-73.0127 157.3665,-79.8292 159.847,-73.2834\"/>\n</g>\n<!-- weight -->\n<g id=\"node5\" class=\"node\">\n<title>weight</title>\n<ellipse fill=\"none\" stroke=\"#000000\" cx=\"288\" cy=\"-201\" rx=\"74.187\" ry=\"18\"/>\n<text text-anchor=\"middle\" x=\"288\" y=\"-197.3\" font-family=\"Times,serif\" font-size=\"14.00\" fill=\"#000000\">weight ~ Normal</text>\n</g>\n<!-- weight&#45;&gt;score -->\n<g id=\"edge1\" class=\"edge\">\n<title>weight&#45;&gt;score</title>\n<path fill=\"none\" stroke=\"#000000\" d=\"M250.4616,-185.3771C226.2991,-175.321 194.5368,-162.102 167.8417,-150.9919\"/>\n<polygon fill=\"#000000\" stroke=\"#000000\" points=\"168.8366,-147.615 158.2594,-147.0039 166.1469,-154.0777 168.8366,-147.615\"/>\n</g>\n</g>\n</svg>\n"
          },
          "metadata": {
            "tags": []
          },
          "execution_count": 4
        }
      ]
    },
    {
      "cell_type": "code",
      "metadata": {
        "id": "diw0fLZelTCv",
        "colab_type": "code",
        "outputId": "1db1a2dd-cbb4-46f8-ecff-f75e19ee2106",
        "colab": {
          "base_uri": "https://localhost:8080/",
          "height": 72
        }
      },
      "source": [
        "with model1:\n",
        "    post = pm.sample()"
      ],
      "execution_count": 5,
      "outputs": [
        {
          "output_type": "stream",
          "text": [
            "100%|██████████| 1000/1000 [00:05<00:00, 183.15it/s]\n",
            "100%|██████████| 1000/1000 [00:04<00:00, 215.23it/s]\n",
            "The estimated number of effective samples is smaller than 200 for some parameters.\n"
          ],
          "name": "stderr"
        }
      ]
    },
    {
      "cell_type": "code",
      "metadata": {
        "id": "kzgwN8jdgVmV",
        "colab_type": "code",
        "outputId": "e97ecb04-edf2-4f21-993c-d97f6961c5a9",
        "colab": {
          "base_uri": "https://localhost:8080/",
          "height": 428
        }
      },
      "source": [
        "for i, param in enumerate(('weight', 'threshold'), 1):\n",
        "    plt.subplot(2,1,i)\n",
        "    sns.distplot(post[param], hist=False, label=param)\n",
        "    plt.title(f\"{np.mean(post[param]):.3f}, {np.std(post[param]):.3f}\")\n",
        "plt.tight_layout()"
      ],
      "execution_count": 6,
      "outputs": [
        {
          "output_type": "display_data",
          "data": {
            "image/png": "[encoded data removed]",
            "text/plain": [
              "<Figure size 576x432 with 2 Axes>"
            ]
          },
          "metadata": {
            "tags": []
          }
        }
      ]
    },
    {
      "cell_type": "code",
      "metadata": {
        "id": "C4dYc8-kjnqA",
        "colab_type": "code",
        "outputId": "da25f96d-edf0-4ece-ae49-90649a298f1f",
        "colab": {
          "base_uri": "https://localhost:8080/",
          "height": 35
        }
      },
      "source": [
        "def sigmoid(x):\n",
        "  return 1 / (1 + np.exp(-x))\n",
        "\n",
        "[np.round(np.mean(sigmoid(post['weight'] * x + post['threshold'])), 3) for x in (0,1)]"
      ],
      "execution_count": 7,
      "outputs": [
        {
          "output_type": "execute_result",
          "data": {
            "text/plain": [
              "[0.007, 0.116]"
            ]
          },
          "metadata": {
            "tags": []
          },
          "execution_count": 7
        }
      ]
    },
    {
      "cell_type": "markdown",
      "metadata": {
        "id": "90S7yMlchiRK",
        "colab_type": "text"
      },
      "source": [
        "##  4.3 Modelling multiple features "
      ]
    },
    {
      "cell_type": "code",
      "metadata": {
        "id": "ziqmXWtfL2oC",
        "colab_type": "code",
        "colab": {}
      },
      "source": [
        "def create_data(table):\n",
        "    ncols = len(table[0]) - 1\n",
        "\n",
        "    row = table[0]\n",
        "    data = np.zeros((row[-1], ncols))\n",
        "    data[:, :] = row[:-1]\n",
        "    for row in table[1:]:\n",
        "        dt = np.zeros((row[-1], ncols))\n",
        "        dt[:, :] = row[:-1]\n",
        "        data = np.vstack((data, dt))\n",
        "    return data\n",
        "\n",
        "data = create_data([[0,0,1, 19],\n",
        "                    [0,0,0, 3046],\n",
        "                    [1,0,1, 111],\n",
        "                    [1,0,0, 824],\n",
        "                    [0,1,1, 2],\n",
        "                    [0,1,0, 248],\n",
        "                    [1,1,1, 200],\n",
        "                    [1,1,0, 50]])"
      ],
      "execution_count": 0,
      "outputs": []
    },
    {
      "cell_type": "code",
      "metadata": {
        "id": "ooRVpHh2hhqc",
        "colab_type": "code",
        "outputId": "ad133cce-3f10-4d93-b2fa-d2b7d6dc2e1e",
        "colab": {
          "base_uri": "https://localhost:8080/",
          "height": 359
        }
      },
      "source": [
        "with pm.Model() as model2:\n",
        "    features = pm.Deterministic('features', theano.shared(data[:,:-1]))\n",
        "    weights = pm.Normal('weights', 0, np.sqrt(1), shape=data.shape[1]-1)\n",
        "    \n",
        "    score = pm.Deterministic('score', tt.sum(tt.mul(features*weights), axis=1))\n",
        "    threshold = pm.Normal('threshold', 0, np.sqrt(10))\n",
        "    repliedTo = pm.Bernoulli('repliedTo', pm.math.sigmoid(score + threshold), shape=data.shape[0], observed=data[:,-1])\n",
        "    \n",
        "pm.model_to_graphviz(model2)"
      ],
      "execution_count": 9,
      "outputs": [
        {
          "output_type": "execute_result",
          "data": {
            "text/plain": [
              "<graphviz.dot.Digraph at 0x7fd234867f28>"
            ],
            "image/svg+xml": "<?xml version=\"1.0\" encoding=\"UTF-8\" standalone=\"no\"?>\n<!DOCTYPE svg PUBLIC \"-//W3C//DTD SVG 1.1//EN\"\n \"http://www.w3.org/Graphics/SVG/1.1/DTD/svg11.dtd\">\n<!-- Generated by graphviz version 2.40.1 (20161225.0304)\n -->\n<!-- Title: %3 Pages: 1 -->\n<svg width=\"388pt\" height=\"254pt\"\n viewBox=\"0.00 0.00 388.19 254.00\" xmlns=\"http://www.w3.org/2000/svg\" xmlns:xlink=\"http://www.w3.org/1999/xlink\">\n<g id=\"graph0\" class=\"graph\" transform=\"scale(1 1) rotate(0) translate(4 250)\">\n<title>%3</title>\n<polygon fill=\"#ffffff\" stroke=\"transparent\" points=\"-4,4 -4,-250 384.1926,-250 384.1926,4 -4,4\"/>\n<g id=\"clust1\" class=\"cluster\">\n<title>cluster4,500 x 2</title>\n<path fill=\"none\" stroke=\"#000000\" d=\"M28,-163C28,-163 172,-163 172,-163 178,-163 184,-169 184,-175 184,-175 184,-226 184,-226 184,-232 178,-238 172,-238 172,-238 28,-238 28,-238 22,-238 16,-232 16,-226 16,-226 16,-175 16,-175 16,-169 22,-163 28,-163\"/>\n<text text-anchor=\"middle\" x=\"147.5\" y=\"-170.8\" font-family=\"Times,serif\" font-size=\"14.00\" fill=\"#000000\">4,500 x 2</text>\n</g>\n<g id=\"clust3\" class=\"cluster\">\n<title>cluster4,500</title>\n<path fill=\"none\" stroke=\"#000000\" d=\"M20,-8C20,-8 194,-8 194,-8 200,-8 206,-14 206,-20 206,-20 206,-143 206,-143 206,-149 200,-155 194,-155 194,-155 20,-155 20,-155 14,-155 8,-149 8,-143 8,-143 8,-20 8,-20 8,-14 14,-8 20,-8\"/>\n<text text-anchor=\"middle\" x=\"181\" y=\"-15.8\" font-family=\"Times,serif\" font-size=\"14.00\" fill=\"#000000\">4,500</text>\n</g>\n<g id=\"clust2\" class=\"cluster\">\n<title>cluster2</title>\n<path fill=\"none\" stroke=\"#000000\" d=\"M204,-163C204,-163 350,-163 350,-163 356,-163 362,-169 362,-175 362,-175 362,-226 362,-226 362,-232 356,-238 350,-238 350,-238 204,-238 204,-238 198,-238 192,-232 192,-226 192,-226 192,-175 192,-175 192,-169 198,-163 204,-163\"/>\n<text text-anchor=\"middle\" x=\"350\" y=\"-170.8\" font-family=\"Times,serif\" font-size=\"14.00\" fill=\"#000000\">2</text>\n</g>\n<!-- features -->\n<g id=\"node1\" class=\"node\">\n<title>features</title>\n<polygon fill=\"none\" stroke=\"#000000\" points=\"175.5,-230 24.5,-230 24.5,-194 175.5,-194 175.5,-230\"/>\n<text text-anchor=\"middle\" x=\"100\" y=\"-208.3\" font-family=\"Times,serif\" font-size=\"14.00\" fill=\"#000000\">features ~ Deterministic</text>\n</g>\n<!-- score -->\n<g id=\"node4\" class=\"node\">\n<title>score</title>\n<polygon fill=\"none\" stroke=\"#000000\" points=\"175.5,-147 38.5,-147 38.5,-111 175.5,-111 175.5,-147\"/>\n<text text-anchor=\"middle\" x=\"107\" y=\"-125.3\" font-family=\"Times,serif\" font-size=\"14.00\" fill=\"#000000\">score ~ Deterministic</text>\n</g>\n<!-- features&#45;&gt;score -->\n<g id=\"edge2\" class=\"edge\">\n<title>features&#45;&gt;score</title>\n<path fill=\"none\" stroke=\"#000000\" d=\"M101.5189,-193.9902C102.4208,-183.2963 103.5844,-169.4994 104.6073,-157.3706\"/>\n<polygon fill=\"#000000\" stroke=\"#000000\" points=\"108.107,-157.52 105.4599,-147.2612 101.1318,-156.9317 108.107,-157.52\"/>\n</g>\n<!-- weights -->\n<g id=\"node2\" class=\"node\">\n<title>weights</title>\n<ellipse fill=\"none\" stroke=\"#000000\" cx=\"277\" cy=\"-212\" rx=\"77.1866\" ry=\"18\"/>\n<text text-anchor=\"middle\" x=\"277\" y=\"-208.3\" font-family=\"Times,serif\" font-size=\"14.00\" fill=\"#000000\">weights ~ Normal</text>\n</g>\n<!-- weights&#45;&gt;score -->\n<g id=\"edge1\" class=\"edge\">\n<title>weights&#45;&gt;score</title>\n<path fill=\"none\" stroke=\"#000000\" d=\"M248.1461,-195.0996C230.9239,-185.2689 208.4849,-172.9041 188,-163 179.6308,-158.9536 170.6551,-154.9067 161.836,-151.0888\"/>\n<polygon fill=\"#000000\" stroke=\"#000000\" points=\"162.9354,-147.7526 152.3641,-147.0467 160.1879,-154.1908 162.9354,-147.7526\"/>\n</g>\n<!-- repliedTo -->\n<g id=\"node3\" class=\"node\">\n<title>repliedTo</title>\n<ellipse fill=\"#d3d3d3\" stroke=\"#000000\" cx=\"107\" cy=\"-57\" rx=\"90.9839\" ry=\"18\"/>\n<text text-anchor=\"middle\" x=\"107\" y=\"-53.3\" font-family=\"Times,serif\" font-size=\"14.00\" fill=\"#000000\">repliedTo ~ Bernoulli</text>\n</g>\n<!-- score&#45;&gt;repliedTo -->\n<g id=\"edge4\" class=\"edge\">\n<title>score&#45;&gt;repliedTo</title>\n<path fill=\"none\" stroke=\"#000000\" d=\"M107,-110.8314C107,-103.131 107,-93.9743 107,-85.4166\"/>\n<polygon fill=\"#000000\" stroke=\"#000000\" points=\"110.5001,-85.4132 107,-75.4133 103.5001,-85.4133 110.5001,-85.4132\"/>\n</g>\n<!-- threshold -->\n<g id=\"node5\" class=\"node\">\n<title>threshold</title>\n<ellipse fill=\"none\" stroke=\"#000000\" cx=\"297\" cy=\"-129\" rx=\"83.3857\" ry=\"18\"/>\n<text text-anchor=\"middle\" x=\"297\" y=\"-125.3\" font-family=\"Times,serif\" font-size=\"14.00\" fill=\"#000000\">threshold ~ Normal</text>\n</g>\n<!-- threshold&#45;&gt;repliedTo -->\n<g id=\"edge3\" class=\"edge\">\n<title>threshold&#45;&gt;repliedTo</title>\n<path fill=\"none\" stroke=\"#000000\" d=\"M255.3037,-113.1993C226.9156,-102.4417 189.1385,-88.1262 158.8169,-76.6359\"/>\n<polygon fill=\"#000000\" stroke=\"#000000\" points=\"159.847,-73.2834 149.2556,-73.0127 157.3665,-79.8292 159.847,-73.2834\"/>\n</g>\n</g>\n</svg>\n"
          },
          "metadata": {
            "tags": []
          },
          "execution_count": 9
        }
      ]
    },
    {
      "cell_type": "code",
      "metadata": {
        "id": "SA26Wv5HjLiB",
        "colab_type": "code",
        "outputId": "8f17c423-a839-45c8-de47-29f7e3363d68",
        "colab": {
          "base_uri": "https://localhost:8080/",
          "height": 54
        }
      },
      "source": [
        "with model2:\n",
        "    post = pm.sample(draws=4000)"
      ],
      "execution_count": 10,
      "outputs": [
        {
          "output_type": "stream",
          "text": [
            "100%|██████████| 4500/4500 [00:38<00:00, 116.78it/s]\n",
            "100%|██████████| 4500/4500 [00:38<00:00, 115.87it/s]\n"
          ],
          "name": "stderr"
        }
      ]
    },
    {
      "cell_type": "code",
      "metadata": {
        "id": "9WlBQD3ijSjZ",
        "colab_type": "code",
        "outputId": "d635e58c-eb69-4322-8f65-93e90e367491",
        "colab": {
          "base_uri": "https://localhost:8080/",
          "height": 90
        }
      },
      "source": [
        "for f2 in (0,1):\n",
        "    for f1 in (0,1):\n",
        "        p = np.round(np.mean(sigmoid(np.sum(post['weights']*[f1, f2], axis=1) + post['threshold'])), 3)\n",
        "        print(f1, f2, p)"
      ],
      "execution_count": 11,
      "outputs": [
        {
          "output_type": "stream",
          "text": [
            "0 0 0.003\n",
            "1 0 0.132\n",
            "0 1 0.06\n",
            "1 1 0.737\n"
          ],
          "name": "stdout"
        }
      ]
    },
    {
      "cell_type": "markdown",
      "metadata": {
        "id": "JZtO62JYXwIp",
        "colab_type": "text"
      },
      "source": [
        "Now with an interaction term"
      ]
    },
    {
      "cell_type": "code",
      "metadata": {
        "id": "steKgZjIkST3",
        "colab_type": "code",
        "colab": {}
      },
      "source": [
        "data2 = create_data([[0,0,0,1, 19],\n",
        "                     [0,0,0,0, 3046],\n",
        "                     [1,0,0,1, 111],\n",
        "                     [1,0,0,0, 824],\n",
        "                     [0,1,0,1, 2],\n",
        "                     [0,1,0,0, 248],\n",
        "                     [1,1,1,1, 200],\n",
        "                     [1,1,1,0, 50]])"
      ],
      "execution_count": 0,
      "outputs": []
    },
    {
      "cell_type": "code",
      "metadata": {
        "id": "Z2UclYMEkkZ2",
        "colab_type": "code",
        "outputId": "09a8e6ef-da5c-4168-e002-d9da9fd235d9",
        "colab": {
          "base_uri": "https://localhost:8080/",
          "height": 359
        }
      },
      "source": [
        "with pm.Model() as model3:\n",
        "    model_data = data2\n",
        "    features = pm.Deterministic('features', theano.shared(model_data[:,:-1]))\n",
        "    weights = pm.Normal('weights', 0, np.sqrt(1), shape=model_data.shape[1]-1)\n",
        "    \n",
        "    score = pm.Deterministic('score', tt.sum(tt.mul(features*weights), axis=1))\n",
        "    threshold = pm.Normal('threshold', 0, np.sqrt(10))\n",
        "    repliedTo = pm.Bernoulli('repliedTo', pm.math.sigmoid(score + threshold), shape=model_data.shape[0], observed=model_data[:,-1])\n",
        "    \n",
        "pm.model_to_graphviz(model3)"
      ],
      "execution_count": 15,
      "outputs": [
        {
          "output_type": "execute_result",
          "data": {
            "text/plain": [
              "<graphviz.dot.Digraph at 0x7fd23ce2c128>"
            ],
            "image/svg+xml": "<?xml version=\"1.0\" encoding=\"UTF-8\" standalone=\"no\"?>\n<!DOCTYPE svg PUBLIC \"-//W3C//DTD SVG 1.1//EN\"\n \"http://www.w3.org/Graphics/SVG/1.1/DTD/svg11.dtd\">\n<!-- Generated by graphviz version 2.40.1 (20161225.0304)\n -->\n<!-- Title: %3 Pages: 1 -->\n<svg width=\"388pt\" height=\"254pt\"\n viewBox=\"0.00 0.00 388.19 254.00\" xmlns=\"http://www.w3.org/2000/svg\" xmlns:xlink=\"http://www.w3.org/1999/xlink\">\n<g id=\"graph0\" class=\"graph\" transform=\"scale(1 1) rotate(0) translate(4 250)\">\n<title>%3</title>\n<polygon fill=\"#ffffff\" stroke=\"transparent\" points=\"-4,4 -4,-250 384.1926,-250 384.1926,4 -4,4\"/>\n<g id=\"clust1\" class=\"cluster\">\n<title>cluster4,500 x 3</title>\n<path fill=\"none\" stroke=\"#000000\" d=\"M28,-163C28,-163 172,-163 172,-163 178,-163 184,-169 184,-175 184,-175 184,-226 184,-226 184,-232 178,-238 172,-238 172,-238 28,-238 28,-238 22,-238 16,-232 16,-226 16,-226 16,-175 16,-175 16,-169 22,-163 28,-163\"/>\n<text text-anchor=\"middle\" x=\"147.5\" y=\"-170.8\" font-family=\"Times,serif\" font-size=\"14.00\" fill=\"#000000\">4,500 x 3</text>\n</g>\n<g id=\"clust3\" class=\"cluster\">\n<title>cluster4,500</title>\n<path fill=\"none\" stroke=\"#000000\" d=\"M20,-8C20,-8 194,-8 194,-8 200,-8 206,-14 206,-20 206,-20 206,-143 206,-143 206,-149 200,-155 194,-155 194,-155 20,-155 20,-155 14,-155 8,-149 8,-143 8,-143 8,-20 8,-20 8,-14 14,-8 20,-8\"/>\n<text text-anchor=\"middle\" x=\"181\" y=\"-15.8\" font-family=\"Times,serif\" font-size=\"14.00\" fill=\"#000000\">4,500</text>\n</g>\n<g id=\"clust2\" class=\"cluster\">\n<title>cluster3</title>\n<path fill=\"none\" stroke=\"#000000\" d=\"M204,-163C204,-163 350,-163 350,-163 356,-163 362,-169 362,-175 362,-175 362,-226 362,-226 362,-232 356,-238 350,-238 350,-238 204,-238 204,-238 198,-238 192,-232 192,-226 192,-226 192,-175 192,-175 192,-169 198,-163 204,-163\"/>\n<text text-anchor=\"middle\" x=\"350\" y=\"-170.8\" font-family=\"Times,serif\" font-size=\"14.00\" fill=\"#000000\">3</text>\n</g>\n<!-- features -->\n<g id=\"node1\" class=\"node\">\n<title>features</title>\n<polygon fill=\"none\" stroke=\"#000000\" points=\"175.5,-230 24.5,-230 24.5,-194 175.5,-194 175.5,-230\"/>\n<text text-anchor=\"middle\" x=\"100\" y=\"-208.3\" font-family=\"Times,serif\" font-size=\"14.00\" fill=\"#000000\">features ~ Deterministic</text>\n</g>\n<!-- score -->\n<g id=\"node4\" class=\"node\">\n<title>score</title>\n<polygon fill=\"none\" stroke=\"#000000\" points=\"175.5,-147 38.5,-147 38.5,-111 175.5,-111 175.5,-147\"/>\n<text text-anchor=\"middle\" x=\"107\" y=\"-125.3\" font-family=\"Times,serif\" font-size=\"14.00\" fill=\"#000000\">score ~ Deterministic</text>\n</g>\n<!-- features&#45;&gt;score -->\n<g id=\"edge2\" class=\"edge\">\n<title>features&#45;&gt;score</title>\n<path fill=\"none\" stroke=\"#000000\" d=\"M101.5189,-193.9902C102.4208,-183.2963 103.5844,-169.4994 104.6073,-157.3706\"/>\n<polygon fill=\"#000000\" stroke=\"#000000\" points=\"108.107,-157.52 105.4599,-147.2612 101.1318,-156.9317 108.107,-157.52\"/>\n</g>\n<!-- weights -->\n<g id=\"node2\" class=\"node\">\n<title>weights</title>\n<ellipse fill=\"none\" stroke=\"#000000\" cx=\"277\" cy=\"-212\" rx=\"77.1866\" ry=\"18\"/>\n<text text-anchor=\"middle\" x=\"277\" y=\"-208.3\" font-family=\"Times,serif\" font-size=\"14.00\" fill=\"#000000\">weights ~ Normal</text>\n</g>\n<!-- weights&#45;&gt;score -->\n<g id=\"edge1\" class=\"edge\">\n<title>weights&#45;&gt;score</title>\n<path fill=\"none\" stroke=\"#000000\" d=\"M248.1461,-195.0996C230.9239,-185.2689 208.4849,-172.9041 188,-163 179.6308,-158.9536 170.6551,-154.9067 161.836,-151.0888\"/>\n<polygon fill=\"#000000\" stroke=\"#000000\" points=\"162.9354,-147.7526 152.3641,-147.0467 160.1879,-154.1908 162.9354,-147.7526\"/>\n</g>\n<!-- repliedTo -->\n<g id=\"node3\" class=\"node\">\n<title>repliedTo</title>\n<ellipse fill=\"#d3d3d3\" stroke=\"#000000\" cx=\"107\" cy=\"-57\" rx=\"90.9839\" ry=\"18\"/>\n<text text-anchor=\"middle\" x=\"107\" y=\"-53.3\" font-family=\"Times,serif\" font-size=\"14.00\" fill=\"#000000\">repliedTo ~ Bernoulli</text>\n</g>\n<!-- score&#45;&gt;repliedTo -->\n<g id=\"edge4\" class=\"edge\">\n<title>score&#45;&gt;repliedTo</title>\n<path fill=\"none\" stroke=\"#000000\" d=\"M107,-110.8314C107,-103.131 107,-93.9743 107,-85.4166\"/>\n<polygon fill=\"#000000\" stroke=\"#000000\" points=\"110.5001,-85.4132 107,-75.4133 103.5001,-85.4133 110.5001,-85.4132\"/>\n</g>\n<!-- threshold -->\n<g id=\"node5\" class=\"node\">\n<title>threshold</title>\n<ellipse fill=\"none\" stroke=\"#000000\" cx=\"297\" cy=\"-129\" rx=\"83.3857\" ry=\"18\"/>\n<text text-anchor=\"middle\" x=\"297\" y=\"-125.3\" font-family=\"Times,serif\" font-size=\"14.00\" fill=\"#000000\">threshold ~ Normal</text>\n</g>\n<!-- threshold&#45;&gt;repliedTo -->\n<g id=\"edge3\" class=\"edge\">\n<title>threshold&#45;&gt;repliedTo</title>\n<path fill=\"none\" stroke=\"#000000\" d=\"M255.3037,-113.1993C226.9156,-102.4417 189.1385,-88.1262 158.8169,-76.6359\"/>\n<polygon fill=\"#000000\" stroke=\"#000000\" points=\"159.847,-73.2834 149.2556,-73.0127 157.3665,-79.8292 159.847,-73.2834\"/>\n</g>\n</g>\n</svg>\n"
          },
          "metadata": {
            "tags": []
          },
          "execution_count": 15
        }
      ]
    },
    {
      "cell_type": "code",
      "metadata": {
        "id": "KrdeJlwgYWV7",
        "colab_type": "code",
        "outputId": "cb111f3a-d6c1-4b02-835f-0e73e6caf624",
        "colab": {
          "base_uri": "https://localhost:8080/",
          "height": 54
        }
      },
      "source": [
        "with model3:\n",
        "    post = pm.sample(draws=4000)"
      ],
      "execution_count": 16,
      "outputs": [
        {
          "output_type": "stream",
          "text": [
            "100%|██████████| 4500/4500 [00:52<00:00, 85.44it/s]\n",
            "100%|██████████| 4500/4500 [00:47<00:00, 94.10it/s] \n"
          ],
          "name": "stderr"
        }
      ]
    },
    {
      "cell_type": "code",
      "metadata": {
        "id": "E6RFzMFfYZ0c",
        "colab_type": "code",
        "colab": {
          "base_uri": "https://localhost:8080/",
          "height": 90
        },
        "outputId": "2ac93eda-8587-4798-e468-20a8b64416e1"
      },
      "source": [
        "for f2 in (0,1):\n",
        "    for f1 in (0,1):\n",
        "        f3 = f1*f2\n",
        "        p = np.round(np.mean(sigmoid(np.sum(post['weights']*[f1, f2, f3], axis=1) + post['threshold'])), 3)\n",
        "        print(f1, f2, p)"
      ],
      "execution_count": 17,
      "outputs": [
        {
          "output_type": "stream",
          "text": [
            "0 0 0.007\n",
            "1 0 0.118\n",
            "0 1 0.015\n",
            "1 1 0.79\n"
          ],
          "name": "stdout"
        }
      ]
    }
  ]
}