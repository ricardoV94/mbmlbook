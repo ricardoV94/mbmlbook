{
  "nbformat": 4,
  "nbformat_minor": 0,
  "metadata": {
    "colab": {
      "name": "MBML Chapter 5",
      "version": "0.3.2",
      "provenance": [],
      "collapsed_sections": [],
      "toc_visible": true,
      "include_colab_link": true
    },
    "kernelspec": {
      "name": "python3",
      "display_name": "Python 3"
    }
  },
  "cells": [
    {
      "cell_type": "markdown",
      "metadata": {
        "id": "view-in-github",
        "colab_type": "text"
      },
      "source": [
        "<a href=\"https://colab.research.google.com/github/ricardoV94/mbmlbook/blob/master/MBML_Chapter_5.ipynb\" target=\"_parent\"><img src=\"https://colab.research.google.com/assets/colab-badge.svg\" alt=\"Open In Colab\"/></a>"
      ]
    },
    {
      "cell_type": "code",
      "metadata": {
        "id": "gtj765Ihgm-W",
        "colab_type": "code",
        "colab": {}
      },
      "source": [
        "import numpy as np\n",
        "import pymc3 as pm\n",
        "import theano\n",
        "import theano.tensor as tt\n",
        "\n",
        "import pandas as pd\n",
        "import scipy.stats as st\n",
        "import matplotlib.pyplot as plt\n",
        "import seaborn as sns\n",
        "\n",
        "from tqdm import tqdm\n",
        "\n",
        "plt.rcParams.update({'font.size': 16})\n",
        "plt.rcParams.update({'figure.figsize': (8,6)})"
      ],
      "execution_count": 0,
      "outputs": []
    },
    {
      "cell_type": "code",
      "metadata": {
        "id": "63RjhhYRgy6r",
        "colab_type": "code",
        "outputId": "529bb8da-003c-44d8-ea61-a3501c9551b4",
        "colab": {
          "base_uri": "https://localhost:8080/",
          "height": 439
        }
      },
      "source": [
        "try:\n",
        "    import arviz\n",
        "except ImportError:\n",
        "    !pip install arviz\n",
        "    \n",
        "import logging\n",
        "logger = logging.getLogger('pymc3')\n",
        "logger.propagate = False\n",
        "logger.setLevel(logging.ERROR)"
      ],
      "execution_count": 0,
      "outputs": [
        {
          "output_type": "stream",
          "text": [
            "Collecting arviz\n",
            "\u001b[?25l  Downloading https://files.pythonhosted.org/packages/78/a9/32de4a85f023a9b62b0bcc32606c371893ac3fb5c96777d8cf646b4e6b67/arviz-0.4.1-py3-none-any.whl (1.3MB)\n",
            "\u001b[K     |████████████████████████████████| 1.3MB 5.0MB/s \n",
            "\u001b[?25hRequirement already satisfied: xarray in /usr/local/lib/python3.6/dist-packages (from arviz) (0.11.3)\n",
            "Requirement already satisfied: numpy in /usr/local/lib/python3.6/dist-packages (from arviz) (1.16.4)\n",
            "Requirement already satisfied: scipy in /usr/local/lib/python3.6/dist-packages (from arviz) (1.3.0)\n",
            "Requirement already satisfied: pandas in /usr/local/lib/python3.6/dist-packages (from arviz) (0.24.2)\n",
            "Collecting netcdf4 (from arviz)\n",
            "\u001b[?25l  Downloading https://files.pythonhosted.org/packages/48/94/eacbf790ceb237bee5db9c54e7c225ff0898d6dd496166a21d7c57254eb5/netCDF4-1.5.1.2-cp36-cp36m-manylinux1_x86_64.whl (4.1MB)\n",
            "\u001b[K     |████████████████████████████████| 4.1MB 45.9MB/s \n",
            "\u001b[?25hRequirement already satisfied: matplotlib>=3.0 in /usr/local/lib/python3.6/dist-packages (from arviz) (3.0.3)\n",
            "Requirement already satisfied: python-dateutil>=2.5.0 in /usr/local/lib/python3.6/dist-packages (from pandas->arviz) (2.5.3)\n",
            "Requirement already satisfied: pytz>=2011k in /usr/local/lib/python3.6/dist-packages (from pandas->arviz) (2018.9)\n",
            "Collecting cftime (from netcdf4->arviz)\n",
            "\u001b[?25l  Downloading https://files.pythonhosted.org/packages/70/64/8ceadda42af3c1b27ee77005807e38c6d77baef28a8f9216b60577fddd71/cftime-1.0.3.4-cp36-cp36m-manylinux1_x86_64.whl (305kB)\n",
            "\u001b[K     |████████████████████████████████| 307kB 45.6MB/s \n",
            "\u001b[?25hRequirement already satisfied: cycler>=0.10 in /usr/local/lib/python3.6/dist-packages (from matplotlib>=3.0->arviz) (0.10.0)\n",
            "Requirement already satisfied: kiwisolver>=1.0.1 in /usr/local/lib/python3.6/dist-packages (from matplotlib>=3.0->arviz) (1.1.0)\n",
            "Requirement already satisfied: pyparsing!=2.0.4,!=2.1.2,!=2.1.6,>=2.0.1 in /usr/local/lib/python3.6/dist-packages (from matplotlib>=3.0->arviz) (2.4.0)\n",
            "Requirement already satisfied: six>=1.5 in /usr/local/lib/python3.6/dist-packages (from python-dateutil>=2.5.0->pandas->arviz) (1.12.0)\n",
            "Requirement already satisfied: setuptools in /usr/local/lib/python3.6/dist-packages (from kiwisolver>=1.0.1->matplotlib>=3.0->arviz) (41.0.1)\n",
            "Installing collected packages: cftime, netcdf4, arviz\n",
            "Successfully installed arviz-0.4.1 cftime-1.0.3.4 netcdf4-1.5.1.2\n"
          ],
          "name": "stdout"
        }
      ]
    },
    {
      "cell_type": "markdown",
      "metadata": {
        "id": "Vv0sYvJvjerX",
        "colab_type": "text"
      },
      "source": [
        "\n",
        "\n",
        "---\n",
        "\n",
        "##   5.3 Training our recommender "
      ]
    },
    {
      "cell_type": "code",
      "metadata": {
        "id": "obZ868TjeRHi",
        "colab_type": "code",
        "colab": {}
      },
      "source": [
        "url1 = 'https://raw.githubusercontent.com/ricardoV94/mbmlbook/master/data/Ch5_ratings.csv'\n",
        "df1 = pd.read_csv(url1, dtype={'userId':'category', 'movieId':'category'})\n",
        "\n",
        "url2 = 'https://raw.githubusercontent.com/ricardoV94/mbmlbook/master/data/Ch5_movies.csv'\n",
        "df2 = pd.read_csv(url2, dtype={'movieId':'category'})"
      ],
      "execution_count": 0,
      "outputs": []
    },
    {
      "cell_type": "code",
      "metadata": {
        "id": "diw0fLZelTCv",
        "colab_type": "code",
        "outputId": "6a6e98e2-d163-464f-e862-ae5f3435e83a",
        "colab": {
          "base_uri": "https://localhost:8080/",
          "height": 420
        }
      },
      "source": [
        "df1.rating.plot.hist(ec='k', width=0.4, zorder=2)\n",
        "plt.grid(axis='y')\n",
        "plt.ylabel('Number of ratings')\n",
        "plt.xlabel('Number of stars')"
      ],
      "execution_count": 0,
      "outputs": [
        {
          "output_type": "execute_result",
          "data": {
            "text/plain": [
              "Text(0.5, 0, 'Number of stars')"
            ]
          },
          "metadata": {
            "tags": []
          },
          "execution_count": 5
        },
        {
          "output_type": "display_data",
          "data": {
            "image/png": "[encoded data removed]",
            "text/plain": [
              "<Figure size 576x432 with 1 Axes>"
            ]
          },
          "metadata": {
            "tags": []
          }
        }
      ]
    },
    {
      "cell_type": "code",
      "metadata": {
        "id": "VRLJfrQqtSc-",
        "colab_type": "code",
        "outputId": "4a65fc7d-b938-4951-bfb7-ce24f623d13e",
        "colab": {
          "base_uri": "https://localhost:8080/",
          "height": 401
        }
      },
      "source": [
        "df1['like'] = df1['rating'] >= 3\n",
        "df1.like = df1.like.astype(int)\n",
        "df1.like.plot.hist()"
      ],
      "execution_count": 0,
      "outputs": [
        {
          "output_type": "execute_result",
          "data": {
            "text/plain": [
              "<matplotlib.axes._subplots.AxesSubplot at 0x7ff41e330fd0>"
            ]
          },
          "metadata": {
            "tags": []
          },
          "execution_count": 6
        },
        {
          "output_type": "display_data",
          "data": {
            "image/png": "[encoded data removed]",
            "text/plain": [
              "<Figure size 576x432 with 1 Axes>"
            ]
          },
          "metadata": {
            "tags": []
          }
        }
      ]
    },
    {
      "cell_type": "code",
      "metadata": {
        "id": "Ek1NL7JGMeej",
        "colab_type": "code",
        "outputId": "6b40fe8b-f184-4663-ef71-1a2dfb074e6c",
        "colab": {
          "base_uri": "https://localhost:8080/",
          "height": 109
        }
      },
      "source": [
        "m1 = df2[df2.title.str.startswith('Mulholland Drive')].movieId.values[0]\n",
        "m2 = df2[df2.title.str.startswith('Usual')].movieId.values[0]\n",
        "print(m1, m2)\n",
        "\n",
        "print(df2[df2.title.str.startswith('Mulholland Drive')])\n",
        "print(df2[df2.title.str.startswith('Usual')])\n"
      ],
      "execution_count": 0,
      "outputs": [
        {
          "output_type": "stream",
          "text": [
            "4848 50\n",
            "     movieId                    title                                  genres\n",
            "3544    4848  Mulholland Drive (2001)  Crime|Drama|Film-Noir|Mystery|Thriller\n",
            "   movieId                       title                  genres\n",
            "46      50  Usual Suspects, The (1995)  Crime|Mystery|Thriller\n"
          ],
          "name": "stdout"
        }
      ]
    },
    {
      "cell_type": "code",
      "metadata": {
        "id": "rQYWfAdmsdKW",
        "colab_type": "code",
        "colab": {}
      },
      "source": [
        "from sklearn.model_selection import train_test_split\n",
        "X_train, X_test, y_train, y_test = train_test_split(df1, df1.like,\n",
        "                                                    stratify=df1.userId, \n",
        "                                                    test_size=0.3)"
      ],
      "execution_count": 0,
      "outputs": []
    },
    {
      "cell_type": "code",
      "metadata": {
        "id": "kzgwN8jdgVmV",
        "colab_type": "code",
        "colab": {}
      },
      "source": [
        "for df in (df1, X_train, X_test):\n",
        "    print(len(df.movieId.unique()), len(df.userId.unique()))"
      ],
      "execution_count": 0,
      "outputs": []
    },
    {
      "cell_type": "code",
      "metadata": {
        "id": "d1fo4BjWdFYF",
        "colab_type": "code",
        "colab": {}
      },
      "source": [
        "data = X_train\n",
        "user_idx = data.userId.cat.codes.values\n",
        "n_users = data.userId.cat.categories.size\n",
        "\n",
        "movie_idx = data.movieId.cat.codes.values\n",
        "n_movies = data.movieId.cat.categories.size\n",
        "\n",
        "observed = y_train"
      ],
      "execution_count": 0,
      "outputs": []
    },
    {
      "cell_type": "code",
      "metadata": {
        "id": "R02xLZPsdm3_",
        "colab_type": "code",
        "colab": {}
      },
      "source": [
        "data[data.movieId==m1].movieId.cat.codes.values"
      ],
      "execution_count": 0,
      "outputs": []
    },
    {
      "cell_type": "code",
      "metadata": {
        "id": "mKQHloVYP8FM",
        "colab_type": "code",
        "colab": {}
      },
      "source": [
        "obs = np.zeros((len(data), 2)) -999\n",
        "# obs1 = np.zeros((len(data))) - 999\n",
        "# obs2 = np.zeros((len(data))) - 999\n",
        "\n",
        "\n",
        "idx = np.where(movie_idx==5889)[0]\n",
        "for row in idx:\n",
        "    obs[row,:] = [0,1]\n",
        "#     obs1[row] = 0\n",
        "#     obs2[row] = 1\n",
        "    \n",
        "idx = np.where(movie_idx==5716)[0]\n",
        "for row in idx:\n",
        "    obs[row,:] = [1,0]\n",
        "#     obs1[row] = 1\n",
        "#     obs2[row] = 0\n",
        "    \n",
        "obs_masked = np.ma.masked_array(obs, mask=obs==-999)\n",
        "# obs1_masked = np.ma.masked_array(obs1, mask=obs1==-999)\n",
        "# obs2_masked = np.ma.masked_array(obs2, mask=obs2==-999)"
      ],
      "execution_count": 0,
      "outputs": []
    },
    {
      "cell_type": "code",
      "metadata": {
        "id": "gSn5Ob2fy1OJ",
        "colab_type": "code",
        "outputId": "f42a41e8-92cb-45e0-bfc4-7fb27f08fb7e",
        "colab": {
          "base_uri": "https://localhost:8080/",
          "height": 504
        }
      },
      "source": [
        "data = X_train\n",
        "user_idx = data.userId.cat.codes.values\n",
        "n_users = data.userId.cat.categories.size\n",
        "\n",
        "movie_idx = data.movieId.cat.codes.values\n",
        "n_movies = data.movieId.cat.categories.size\n",
        "\n",
        "observed = y_train\n",
        "\n",
        "with pm.Model() as model1:\n",
        "\n",
        "    n_traits = 2\n",
        "    \n",
        "    trait_ = pm.Normal('trait_', mu=0, sigma=np.sqrt(1/np.sqrt(n_traits)), shape=(n_movies, n_traits), observed=obs_masked)\n",
        "    trait = pm.Deterministic('trait', trait_)\n",
        "    \n",
        "    preference = pm.Normal('preference', mu=0, sigma=np.sqrt(1/np.sqrt(n_traits)), shape=(n_users, n_traits))\n",
        "    \n",
        "    trait_bias = pm.Normal('trait_bias', mu=0, sd=np.sqrt(10), shape=n_movies)\n",
        "    preference_bias = pm.Normal('preference_bias', mu=0, sd=np.sqrt(10), shape=n_users)\n",
        "    \n",
        "    \n",
        "    score = (tt.sum(tt.mul(trait_[movie_idx], \n",
        "                           preference[user_idx]))\n",
        "             + trait_bias[movie_idx] \n",
        "             + preference_bias[user_idx])\n",
        "            \n",
        "    like = pm.Bernoulli('like', p=pm.math.sigmoid(score), observed=observed)\n",
        "    \n",
        "\n",
        "pm.model_to_graphviz(model1)"
      ],
      "execution_count": 0,
      "outputs": [
        {
          "output_type": "stream",
          "text": [
            "/usr/local/lib/python3.6/dist-packages/pymc3/model.py:1331: UserWarning: Data in trait_ contains missing values and will be automatically imputed from the sampling distribution.\n",
            "  warnings.warn(impute_message, UserWarning)\n",
            "/usr/local/lib/python3.6/dist-packages/theano/tensor/subtensor.py:2197: FutureWarning: Using a non-tuple sequence for multidimensional indexing is deprecated; use `arr[tuple(seq)]` instead of `arr[seq]`. In the future this will be interpreted as an array index, `arr[np.array(seq)]`, which will result either in an error or a different result.\n",
            "  rval = inputs[0].__getitem__(inputs[1:])\n",
            "/usr/local/lib/python3.6/dist-packages/theano/tensor/subtensor.py:2339: FutureWarning: Using a non-tuple sequence for multidimensional indexing is deprecated; use `arr[tuple(seq)]` instead of `arr[seq]`. In the future this will be interpreted as an array index, `arr[np.array(seq)]`, which will result either in an error or a different result.\n",
            "  out[0][inputs[2:]] = inputs[1]\n"
          ],
          "name": "stderr"
        },
        {
          "output_type": "execute_result",
          "data": {
            "text/plain": [
              "<graphviz.dot.Digraph at 0x7ff41e29f080>"
            ],
            "image/svg+xml": "<?xml version=\"1.0\" encoding=\"UTF-8\" standalone=\"no\"?>\n<!DOCTYPE svg PUBLIC \"-//W3C//DTD SVG 1.1//EN\"\n \"http://www.w3.org/Graphics/SVG/1.1/DTD/svg11.dtd\">\n<!-- Generated by graphviz version 2.40.1 (20161225.0304)\n -->\n<!-- Title: %3 Pages: 1 -->\n<svg width=\"864pt\" height=\"265pt\"\n viewBox=\"0.00 0.00 864.00 265.00\" xmlns=\"http://www.w3.org/2000/svg\" xmlns:xlink=\"http://www.w3.org/1999/xlink\">\n<g id=\"graph0\" class=\"graph\" transform=\"scale(1 1) rotate(0) translate(4 261)\">\n<title>%3</title>\n<polygon fill=\"#ffffff\" stroke=\"transparent\" points=\"-4,4 -4,-261 860,-261 860,4 -4,4\"/>\n<g id=\"clust1\" class=\"cluster\">\n<title>cluster140,798</title>\n<path fill=\"none\" stroke=\"#000000\" d=\"M20,-174C20,-174 272,-174 272,-174 278,-174 284,-180 284,-186 284,-186 284,-237 284,-237 284,-243 278,-249 272,-249 272,-249 20,-249 20,-249 14,-249 8,-243 8,-237 8,-237 8,-186 8,-186 8,-180 14,-174 20,-174\"/>\n<text text-anchor=\"middle\" x=\"251.5\" y=\"-181.8\" font-family=\"Times,serif\" font-size=\"14.00\" fill=\"#000000\">140,798</text>\n</g>\n<g id=\"clust2\" class=\"cluster\">\n<title>cluster70,585 x 2</title>\n<path fill=\"none\" stroke=\"#000000\" d=\"M82,-8C82,-8 210,-8 210,-8 216,-8 222,-14 222,-20 222,-20 222,-154 222,-154 222,-160 216,-166 210,-166 210,-166 82,-166 82,-166 76,-166 70,-160 70,-154 70,-154 70,-20 70,-20 70,-14 76,-8 82,-8\"/>\n<text text-anchor=\"middle\" x=\"182\" y=\"-15.8\" font-family=\"Times,serif\" font-size=\"14.00\" fill=\"#000000\">70,585 x 2</text>\n</g>\n<g id=\"clust3\" class=\"cluster\">\n<title>cluster610 x 2</title>\n<path fill=\"none\" stroke=\"#000000\" d=\"M242,-91C242,-91 408,-91 408,-91 414,-91 420,-97 420,-103 420,-103 420,-154 420,-154 420,-160 414,-166 408,-166 408,-166 242,-166 242,-166 236,-166 230,-160 230,-154 230,-154 230,-103 230,-103 230,-97 236,-91 242,-91\"/>\n<text text-anchor=\"middle\" x=\"389\" y=\"-98.8\" font-family=\"Times,serif\" font-size=\"14.00\" fill=\"#000000\">610 x 2</text>\n</g>\n<g id=\"clust4\" class=\"cluster\">\n<title>cluster9,724</title>\n<path fill=\"none\" stroke=\"#000000\" d=\"M440,-91C440,-91 598,-91 598,-91 604,-91 610,-97 610,-103 610,-103 610,-154 610,-154 610,-160 604,-166 598,-166 598,-166 440,-166 440,-166 434,-166 428,-160 428,-154 428,-154 428,-103 428,-103 428,-97 434,-91 440,-91\"/>\n<text text-anchor=\"middle\" x=\"585\" y=\"-98.8\" font-family=\"Times,serif\" font-size=\"14.00\" fill=\"#000000\">9,724</text>\n</g>\n<g id=\"clust5\" class=\"cluster\">\n<title>cluster610</title>\n<path fill=\"none\" stroke=\"#000000\" d=\"M630,-91C630,-91 836,-91 836,-91 842,-91 848,-97 848,-103 848,-103 848,-154 848,-154 848,-160 842,-166 836,-166 836,-166 630,-166 630,-166 624,-166 618,-160 618,-154 618,-154 618,-103 618,-103 618,-97 624,-91 630,-91\"/>\n<text text-anchor=\"middle\" x=\"828.5\" y=\"-98.8\" font-family=\"Times,serif\" font-size=\"14.00\" fill=\"#000000\">610</text>\n</g>\n<g id=\"clust6\" class=\"cluster\">\n<title>cluster70,585</title>\n<path fill=\"none\" stroke=\"#000000\" d=\"M356,-8C356,-8 488,-8 488,-8 494,-8 500,-14 500,-20 500,-20 500,-71 500,-71 500,-77 494,-83 488,-83 488,-83 356,-83 356,-83 350,-83 344,-77 344,-71 344,-71 344,-20 344,-20 344,-14 350,-8 356,-8\"/>\n<text text-anchor=\"middle\" x=\"471\" y=\"-15.8\" font-family=\"Times,serif\" font-size=\"14.00\" fill=\"#000000\">70,585</text>\n</g>\n<!-- trait__missing -->\n<g id=\"node1\" class=\"node\">\n<title>trait__missing</title>\n<ellipse fill=\"none\" stroke=\"#000000\" cx=\"146\" cy=\"-223\" rx=\"129.9769\" ry=\"18\"/>\n<text text-anchor=\"middle\" x=\"146\" y=\"-219.3\" font-family=\"Times,serif\" font-size=\"14.00\" fill=\"#000000\">trait__missing ~ NoDistribution</text>\n</g>\n<!-- trait_ -->\n<g id=\"node2\" class=\"node\">\n<title>trait_</title>\n<ellipse fill=\"#d3d3d3\" stroke=\"#000000\" cx=\"146\" cy=\"-140\" rx=\"67.6881\" ry=\"18\"/>\n<text text-anchor=\"middle\" x=\"146\" y=\"-136.3\" font-family=\"Times,serif\" font-size=\"14.00\" fill=\"#000000\">trait_ ~ Normal</text>\n</g>\n<!-- trait__missing&#45;&gt;trait_ -->\n<g id=\"edge1\" class=\"edge\">\n<title>trait__missing&#45;&gt;trait_</title>\n<path fill=\"none\" stroke=\"#000000\" d=\"M146,-204.9902C146,-194.2963 146,-180.4994 146,-168.3706\"/>\n<polygon fill=\"#000000\" stroke=\"#000000\" points=\"149.5001,-168.2612 146,-158.2612 142.5001,-168.2613 149.5001,-168.2612\"/>\n</g>\n<!-- trait -->\n<g id=\"node3\" class=\"node\">\n<title>trait</title>\n<polygon fill=\"none\" stroke=\"#000000\" points=\"210.5,-75 81.5,-75 81.5,-39 210.5,-39 210.5,-75\"/>\n<text text-anchor=\"middle\" x=\"146\" y=\"-53.3\" font-family=\"Times,serif\" font-size=\"14.00\" fill=\"#000000\">trait ~ Deterministic</text>\n</g>\n<!-- trait_&#45;&gt;trait -->\n<g id=\"edge2\" class=\"edge\">\n<title>trait_&#45;&gt;trait</title>\n<path fill=\"none\" stroke=\"#000000\" d=\"M146,-121.9902C146,-111.2963 146,-97.4994 146,-85.3706\"/>\n<polygon fill=\"#000000\" stroke=\"#000000\" points=\"149.5001,-85.2612 146,-75.2612 142.5001,-85.2613 149.5001,-85.2612\"/>\n</g>\n<!-- like -->\n<g id=\"node7\" class=\"node\">\n<title>like</title>\n<ellipse fill=\"#d3d3d3\" stroke=\"#000000\" cx=\"422\" cy=\"-57\" rx=\"69.5877\" ry=\"18\"/>\n<text text-anchor=\"middle\" x=\"422\" y=\"-53.3\" font-family=\"Times,serif\" font-size=\"14.00\" fill=\"#000000\">like ~ Bernoulli</text>\n</g>\n<!-- trait_&#45;&gt;like -->\n<g id=\"edge4\" class=\"edge\">\n<title>trait_&#45;&gt;like</title>\n<path fill=\"none\" stroke=\"#000000\" d=\"M168.5931,-122.9465C183.9918,-112.1573 205.2746,-98.8167 226,-91 263.9551,-76.685 308.3419,-68.3485 345.2683,-63.5179\"/>\n<polygon fill=\"#000000\" stroke=\"#000000\" points=\"345.9835,-66.9559 355.4741,-62.2463 345.118,-60.0096 345.9835,-66.9559\"/>\n</g>\n<!-- preference -->\n<g id=\"node4\" class=\"node\">\n<title>preference</title>\n<ellipse fill=\"none\" stroke=\"#000000\" cx=\"325\" cy=\"-140\" rx=\"87.1846\" ry=\"18\"/>\n<text text-anchor=\"middle\" x=\"325\" y=\"-136.3\" font-family=\"Times,serif\" font-size=\"14.00\" fill=\"#000000\">preference ~ Normal</text>\n</g>\n<!-- preference&#45;&gt;like -->\n<g id=\"edge3\" class=\"edge\">\n<title>preference&#45;&gt;like</title>\n<path fill=\"none\" stroke=\"#000000\" d=\"M345.5712,-122.3978C359.6837,-110.3222 378.582,-94.1515 394.0552,-80.9115\"/>\n<polygon fill=\"#000000\" stroke=\"#000000\" points=\"396.4685,-83.453 401.7911,-74.2922 391.9174,-78.1343 396.4685,-83.453\"/>\n</g>\n<!-- trait_bias -->\n<g id=\"node5\" class=\"node\">\n<title>trait_bias</title>\n<ellipse fill=\"none\" stroke=\"#000000\" cx=\"519\" cy=\"-140\" rx=\"82.5854\" ry=\"18\"/>\n<text text-anchor=\"middle\" x=\"519\" y=\"-136.3\" font-family=\"Times,serif\" font-size=\"14.00\" fill=\"#000000\">trait_bias ~ Normal</text>\n</g>\n<!-- trait_bias&#45;&gt;like -->\n<g id=\"edge6\" class=\"edge\">\n<title>trait_bias&#45;&gt;like</title>\n<path fill=\"none\" stroke=\"#000000\" d=\"M498.4288,-122.3978C484.3163,-110.3222 465.418,-94.1515 449.9448,-80.9115\"/>\n<polygon fill=\"#000000\" stroke=\"#000000\" points=\"452.0826,-78.1343 442.2089,-74.2922 447.5315,-83.453 452.0826,-78.1343\"/>\n</g>\n<!-- preference_bias -->\n<g id=\"node6\" class=\"node\">\n<title>preference_bias</title>\n<ellipse fill=\"none\" stroke=\"#000000\" cx=\"733\" cy=\"-140\" rx=\"106.6812\" ry=\"18\"/>\n<text text-anchor=\"middle\" x=\"733\" y=\"-136.3\" font-family=\"Times,serif\" font-size=\"14.00\" fill=\"#000000\">preference_bias ~ Normal</text>\n</g>\n<!-- preference_bias&#45;&gt;like -->\n<g id=\"edge5\" class=\"edge\">\n<title>preference_bias&#45;&gt;like</title>\n<path fill=\"none\" stroke=\"#000000\" d=\"M697.268,-122.9162C674.0055,-112.3919 642.7487,-99.3583 614,-91 575.3738,-79.7699 531.2384,-71.6397 495.0306,-66.1513\"/>\n<polygon fill=\"#000000\" stroke=\"#000000\" points=\"495.4442,-62.6744 485.0395,-64.6729 494.4195,-69.599 495.4442,-62.6744\"/>\n</g>\n</g>\n</svg>\n"
          },
          "metadata": {
            "tags": []
          },
          "execution_count": 13
        }
      ]
    },
    {
      "cell_type": "code",
      "metadata": {
        "id": "KT6ut3nfAr1U",
        "colab_type": "code",
        "outputId": "23ab531b-c239-419c-f069-356fd62194d7",
        "colab": {
          "base_uri": "https://localhost:8080/",
          "height": 129
        }
      },
      "source": [
        "from pymc3.variational.callbacks import CheckParametersConvergence\n",
        "with model1:\n",
        "    mean_post = pm.fit(method='advi', callbacks=[CheckParametersConvergence()])\n",
        "    #post = pm.sample(draws=300, tune=200)"
      ],
      "execution_count": 0,
      "outputs": [
        {
          "output_type": "stream",
          "text": [
            "\r  0%|          | 0/10000 [00:00<?, ?it/s]/usr/local/lib/python3.6/dist-packages/theano/tensor/subtensor.py:2339: FutureWarning: Using a non-tuple sequence for multidimensional indexing is deprecated; use `arr[tuple(seq)]` instead of `arr[seq]`. In the future this will be interpreted as an array index, `arr[np.array(seq)]`, which will result either in an error or a different result.\n",
            "  out[0][inputs[2:]] = inputs[1]\n",
            "/usr/local/lib/python3.6/dist-packages/theano/tensor/subtensor.py:2197: FutureWarning: Using a non-tuple sequence for multidimensional indexing is deprecated; use `arr[tuple(seq)]` instead of `arr[seq]`. In the future this will be interpreted as an array index, `arr[np.array(seq)]`, which will result either in an error or a different result.\n",
            "  rval = inputs[0].__getitem__(inputs[1:])\n",
            "Average Loss = 3.6297e+06: 100%|██████████| 10000/10000 [10:33<00:00, 16.02it/s]\n"
          ],
          "name": "stderr"
        }
      ]
    },
    {
      "cell_type": "code",
      "metadata": {
        "id": "zIx5rGTguUh6",
        "colab_type": "code",
        "outputId": "4ccb2dee-b468-4ba4-ad46-8c834b13102f",
        "colab": {
          "base_uri": "https://localhost:8080/",
          "height": 412
        }
      },
      "source": [
        "plt.plot(mean_post.hist)"
      ],
      "execution_count": 0,
      "outputs": [
        {
          "output_type": "execute_result",
          "data": {
            "text/plain": [
              "[<matplotlib.lines.Line2D at 0x7ff409ceb668>]"
            ]
          },
          "metadata": {
            "tags": []
          },
          "execution_count": 47
        },
        {
          "output_type": "display_data",
          "data": {
            "image/png": "[encoded data removed]",
            "text/plain": [
              "<Figure size 576x432 with 1 Axes>"
            ]
          },
          "metadata": {
            "tags": []
          }
        }
      ]
    },
    {
      "cell_type": "code",
      "metadata": {
        "id": "5CNTRJeWtLWw",
        "colab_type": "code",
        "outputId": "0b0858a3-ccd1-4ba6-b5fb-34b53c1a37b5",
        "colab": {
          "base_uri": "https://localhost:8080/",
          "height": 74
        }
      },
      "source": [
        "post = mean_post.sample(500)"
      ],
      "execution_count": 0,
      "outputs": [
        {
          "output_type": "stream",
          "text": [
            "/usr/local/lib/python3.6/dist-packages/theano/tensor/subtensor.py:2339: FutureWarning: Using a non-tuple sequence for multidimensional indexing is deprecated; use `arr[tuple(seq)]` instead of `arr[seq]`. In the future this will be interpreted as an array index, `arr[np.array(seq)]`, which will result either in an error or a different result.\n",
            "  out[0][inputs[2:]] = inputs[1]\n"
          ],
          "name": "stderr"
        }
      ]
    },
    {
      "cell_type": "code",
      "metadata": {
        "id": "_bt3j2BKtskz",
        "colab_type": "code",
        "outputId": "1cfe9593-80df-4e5c-f8a5-2ada1c64c064",
        "colab": {
          "base_uri": "https://localhost:8080/",
          "height": 35
        }
      },
      "source": [
        "post_trait = np.swapaxes(post['trait'],0,1)\n",
        "post_trait = np.swapaxes(post_trait,1,2)\n",
        "post_trait.shape"
      ],
      "execution_count": 0,
      "outputs": [
        {
          "output_type": "execute_result",
          "data": {
            "text/plain": [
              "(70585, 2, 500)"
            ]
          },
          "metadata": {
            "tags": []
          },
          "execution_count": 48
        }
      ]
    },
    {
      "cell_type": "code",
      "metadata": {
        "id": "WyAX5WLlyPdE",
        "colab_type": "code",
        "colab": {}
      },
      "source": [
        "coords = np.zeros(post_trait.shape[:-1])\n",
        "for i, movie in enumerate(post_trait):\n",
        "    for j, trait in enumerate(movie):\n",
        "        mean = np.mean(trait)\n",
        "        coords[i,j] = mean"
      ],
      "execution_count": 0,
      "outputs": []
    },
    {
      "cell_type": "code",
      "metadata": {
        "id": "gxbPjSEnyXHZ",
        "colab_type": "code",
        "outputId": "e065834d-dd16-4da8-fca7-48bf1116f6a7",
        "colab": {
          "base_uri": "https://localhost:8080/",
          "height": 403
        }
      },
      "source": [
        "plt.scatter(coords[:,0], coords[:,1])\n",
        "plt.xlim([-.3, .3])\n",
        "plt.ylim([-.3, .3])"
      ],
      "execution_count": 0,
      "outputs": [
        {
          "output_type": "execute_result",
          "data": {
            "text/plain": [
              "(-0.3, 0.3)"
            ]
          },
          "metadata": {
            "tags": []
          },
          "execution_count": 58
        },
        {
          "output_type": "display_data",
          "data": {
            "image/png": "[encoded data removed]",
            "text/plain": [
              "<Figure size 576x432 with 1 Axes>"
            ]
          },
          "metadata": {
            "tags": []
          }
        }
      ]
    },
    {
      "cell_type": "markdown",
      "metadata": {
        "id": "NCjtTlODWFFC",
        "colab_type": "text"
      },
      "source": [
        "### Not working, scale is much shorter than in book example..."
      ]
    },
    {
      "cell_type": "code",
      "metadata": {
        "id": "MebyrPnoWLer",
        "colab_type": "code",
        "colab": {}
      },
      "source": [
        ""
      ],
      "execution_count": 0,
      "outputs": []
    }
  ]
}