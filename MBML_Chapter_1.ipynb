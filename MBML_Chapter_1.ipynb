{
  "nbformat": 4,
  "nbformat_minor": 0,
  "metadata": {
    "colab": {
      "name": "MBML Chapter 1.ipynb",
      "version": "0.3.2",
      "provenance": [],
      "collapsed_sections": [],
      "include_colab_link": true
    },
    "kernelspec": {
      "name": "python3",
      "display_name": "Python 3"
    }
  },
  "cells": [
    {
      "cell_type": "markdown",
      "metadata": {
        "id": "view-in-github",
        "colab_type": "text"
      },
      "source": [
        "<a href=\"https://colab.research.google.com/github/ricardoV94/mbmlbook/blob/master/MBML_Chapter_1.ipynb\" target=\"_parent\"><img src=\"https://colab.research.google.com/assets/colab-badge.svg\" alt=\"Open In Colab\"/></a>"
      ]
    },
    {
      "cell_type": "markdown",
      "metadata": {
        "id": "gtVVdi0njyoF",
        "colab_type": "text"
      },
      "source": [
        "# Chapter 1"
      ]
    },
    {
      "cell_type": "code",
      "metadata": {
        "id": "9a8cXZVTSK38",
        "colab_type": "code",
        "colab": {}
      },
      "source": [
        "import numpy as np\n",
        "import matplotlib.pyplot as plt\n",
        "import pymc3 as pm\n",
        "import theano.tensor as tt\n",
        "#!pip install arviz"
      ],
      "execution_count": 0,
      "outputs": []
    },
    {
      "cell_type": "code",
      "metadata": {
        "id": "LKUN397KPdQm",
        "colab_type": "code",
        "colab": {}
      },
      "source": [
        "import logging\n",
        "logger = logging.getLogger('pymc3')\n",
        "logger.propagate = False\n",
        "logger.setLevel(logging.ERROR)"
      ],
      "execution_count": 0,
      "outputs": []
    },
    {
      "cell_type": "markdown",
      "metadata": {
        "id": "GSEA7LVhfBYk",
        "colab_type": "text"
      },
      "source": [
        "---\n",
        "\n",
        "## 1.2 A model of a murder"
      ]
    },
    {
      "cell_type": "code",
      "metadata": {
        "id": "Ok_EY7dvSOZp",
        "colab_type": "code",
        "colab": {}
      },
      "source": [
        "auburn = True\n",
        "grey = False\n",
        "dagger = True\n",
        "gun = False\n",
        "\n",
        "with pm.Model() as model:\n",
        "    # True: Auburn, False: Grey, \n",
        "    murder = pm.Bernoulli('murder', 0.7)\n",
        "\n",
        "    # Weapon is conditional on murderer\n",
        "    # True: Gun, False: Revolver\n",
        "    murder_weapon = pm.math.switch(murder, .8, .1)\n",
        "    weapon = pm.Bernoulli('weapon', murder_weapon)\n",
        "\n",
        "    trace = pm.sample(5000, progressbar=False)"
      ],
      "execution_count": 0,
      "outputs": []
    },
    {
      "cell_type": "code",
      "metadata": {
        "id": "NdbQbUDlT_kN",
        "colab_type": "code",
        "outputId": "fd817522-7536-440e-c7d9-6696eeb321a9",
        "colab": {
          "base_uri": "https://localhost:8080/",
          "height": 313
        }
      },
      "source": [
        "pm.traceplot(trace);"
      ],
      "execution_count": 4,
      "outputs": [
        {
          "output_type": "display_data",
          "data": {
            "image/png": "[encoded data removed]",
            "text/plain": [
              "<Figure size 864x288 with 4 Axes>"
            ]
          },
          "metadata": {
            "tags": []
          }
        }
      ]
    },
    {
      "cell_type": "markdown",
      "metadata": {
        "id": "3SgwEkdNfRGb",
        "colab_type": "text"
      },
      "source": [
        "We can retrieve the prior probabilities from the join probability distribution (sampled on the trace)"
      ]
    },
    {
      "cell_type": "code",
      "metadata": {
        "id": "7riGNSGzUR1a",
        "colab_type": "code",
        "outputId": "3a157d61-4709-4065-e55b-01e0903b7c48",
        "colab": {
          "base_uri": "https://localhost:8080/",
          "height": 91
        }
      },
      "source": [
        "print('Marginal Probability of Murderer (directly imputed) \\n')\n",
        "print('P(Auburn) =', np.mean((trace['murder']==auburn)))\n",
        "print('P(Grey)   =', np.mean((trace['murder']==grey)))"
      ],
      "execution_count": 5,
      "outputs": [
        {
          "output_type": "stream",
          "text": [
            "Marginal Probability of Murderer (directly imputed) \n",
            "\n",
            "P(Auburn) = 0.6991\n",
            "P(Grey)   = 0.3009\n"
          ],
          "name": "stdout"
        }
      ]
    },
    {
      "cell_type": "code",
      "metadata": {
        "id": "biS9qtYbZzuz",
        "colab_type": "code",
        "outputId": "44b27b4d-1ae1-4270-942c-d32b1d6f4f65",
        "colab": {
          "base_uri": "https://localhost:8080/",
          "height": 128
        }
      },
      "source": [
        "print('Conditional Probability of Weapon, given Murderer (directly imputed) \\n')\n",
        "print('P(Dagger | Auburn) =', np.mean(trace['weapon'][trace['murder']==auburn]==dagger))\n",
        "print('P(Gun    | Auburn) =', np.mean(trace['weapon'][trace['murder']==auburn]==gun))\n",
        "print('P(Dagger | Grey)   =', np.mean(trace['weapon'][trace['murder']==grey]==dagger))\n",
        "print('P(Gun    | Grey)   =', np.mean(trace['weapon'][trace['murder']==grey]==gun))\n"
      ],
      "execution_count": 6,
      "outputs": [
        {
          "output_type": "stream",
          "text": [
            "Conditional Probability of Weapon, given Murderer (directly imputed) \n",
            "\n",
            "P(Dagger | Auburn) = 0.7968817050493492\n",
            "P(Gun    | Auburn) = 0.20311829495065084\n",
            "P(Dagger | Grey)   = 0.09571286141575275\n",
            "P(Gun    | Grey)   = 0.9042871385842473\n"
          ],
          "name": "stdout"
        }
      ]
    },
    {
      "cell_type": "markdown",
      "metadata": {
        "id": "SGOgLDePfvTp",
        "colab_type": "text"
      },
      "source": [
        "\n",
        "The distribution contains additional information that was not directly imputed, but which is determined by the model structure"
      ]
    },
    {
      "cell_type": "code",
      "metadata": {
        "id": "gZ-NuaFLXbWH",
        "colab_type": "code",
        "outputId": "6a41e00c-9acb-4e69-9343-0f7b7c6a8947",
        "colab": {
          "base_uri": "https://localhost:8080/",
          "height": 128
        }
      },
      "source": [
        "print('Joint Probability of Murderer and Weapon \\n')\n",
        "\n",
        "print('P(Auburn, Dagger) =', np.mean((trace['murder']==1) & (trace['weapon']==1)))\n",
        "print('P(Auburn, Gun)    =', np.mean((trace['murder']==1) & (trace['weapon']==0)))\n",
        "print('P(Grey,   Dagger) =', np.mean((trace['murder']==0) & (trace['weapon']==1)))\n",
        "print('P(Grey,   Gun)    =', np.mean((trace['murder']==0) & (trace['weapon']==0)))"
      ],
      "execution_count": 7,
      "outputs": [
        {
          "output_type": "stream",
          "text": [
            "Joint Probability of Murderer and Weapon \n",
            "\n",
            "P(Auburn, Dagger) = 0.5571\n",
            "P(Auburn, Gun)    = 0.142\n",
            "P(Grey,   Dagger) = 0.0288\n",
            "P(Grey,   Gun)    = 0.2721\n"
          ],
          "name": "stdout"
        }
      ]
    },
    {
      "cell_type": "code",
      "metadata": {
        "id": "M4MUWKkSdtt_",
        "colab_type": "code",
        "outputId": "44350bd7-d750-4887-c7d7-07984f8de4f0",
        "colab": {
          "base_uri": "https://localhost:8080/",
          "height": 91
        }
      },
      "source": [
        "print('Marginal Probability of Weapon (not discussed in the book) \\n')\n",
        "print('P(Dagger) =', np.mean((trace['weapon']==dagger)))\n",
        "print('P(Gun)    =', np.mean((trace['weapon']==gun)))"
      ],
      "execution_count": 8,
      "outputs": [
        {
          "output_type": "stream",
          "text": [
            "Marginal Probability of Weapon (not discussed in the book) \n",
            "\n",
            "P(Dagger) = 0.5859\n",
            "P(Gun)    = 0.4141\n"
          ],
          "name": "stdout"
        }
      ]
    },
    {
      "cell_type": "markdown",
      "metadata": {
        "id": "Nte6CMhyeomS",
        "colab_type": "text"
      },
      "source": [
        "\n",
        "Similarly, we can use the joint probability distribution to infer changes in belief when observing one of the weapons"
      ]
    },
    {
      "cell_type": "code",
      "metadata": {
        "id": "8xuSNUL6ZFjf",
        "colab_type": "code",
        "outputId": "235b435a-5177-4852-fb60-5e01f2ebfa0f",
        "colab": {
          "base_uri": "https://localhost:8080/",
          "height": 183
        }
      },
      "source": [
        "print('Conditional Probability of Murderer, given Weapon \\n')\n",
        "\n",
        "print('(Book example)')\n",
        "print('P(Auburn | Gun)    =', np.mean(trace['murder'][trace['weapon']==gun]==auburn))\n",
        "print('P(Grey   | Gun)    =', np.mean(trace['murder'][trace['weapon']==gun]==grey))\n",
        "\n",
        "print('\\n(Not shown in the book)')\n",
        "print('P(Auburn | Dagger) =', np.mean(trace['murder'][trace['weapon']==dagger]==auburn))\n",
        "print('P(Grey   | Dagger) =', np.mean(trace['murder'][trace['weapon']==dagger]==grey))"
      ],
      "execution_count": 9,
      "outputs": [
        {
          "output_type": "stream",
          "text": [
            "Conditional Probability of Murderer, given Weapon \n",
            "\n",
            "(Book example)\n",
            "P(Auburn | Gun)    = 0.3429123400144893\n",
            "P(Grey   | Gun)    = 0.6570876599855108\n",
            "\n",
            "(Not shown in the book)\n",
            "P(Auburn | Dagger) = 0.9508448540706606\n",
            "P(Grey   | Dagger) = 0.04915514592933948\n"
          ],
          "name": "stdout"
        }
      ]
    },
    {
      "cell_type": "markdown",
      "metadata": {
        "id": "MRmTcH0Pebnb",
        "colab_type": "text"
      },
      "source": [
        "\n",
        "\n",
        "---\n",
        "\n",
        "## 1.3 Working with larger models \n",
        "\n",
        "Better yet, we can run the original model conditioned on the observed weapon, and sample the posterior distribution directly"
      ]
    },
    {
      "cell_type": "code",
      "metadata": {
        "id": "M1HTp20kb7lR",
        "colab_type": "code",
        "colab": {}
      },
      "source": [
        "with pm.Model() as model: \n",
        "    murder = pm.Bernoulli('murder', 0.7)\n",
        "    \n",
        "    murder_weapon = pm.math.switch(murder, .8, .1)\n",
        "    \n",
        "    # Conditioned on observed weapon\n",
        "    weapon = pm.Bernoulli('weapon', murder_weapon, observed=gun)\n",
        "\n",
        "    trace2 = pm.sample(5000, progressbar=False)"
      ],
      "execution_count": 0,
      "outputs": []
    },
    {
      "cell_type": "code",
      "metadata": {
        "id": "o97tsRducwZh",
        "colab_type": "code",
        "outputId": "ed53ec0c-9d57-4b0d-a68c-d032e7159798",
        "colab": {
          "base_uri": "https://localhost:8080/",
          "height": 91
        }
      },
      "source": [
        "print('Conditional Probability of Murderer, given Gun \\n')\n",
        "print('P(Auburn | Gun) =', np.mean(trace2['murder']==auburn))\n",
        "print('P(Grey   | Gun) =', np.mean(trace2['murder']==grey))"
      ],
      "execution_count": 11,
      "outputs": [
        {
          "output_type": "stream",
          "text": [
            "Conditional Probability of Murderer, given Gun \n",
            "\n",
            "P(Auburn | Gun) = 0.3412\n",
            "P(Grey   | Gun) = 0.6588\n"
          ],
          "name": "stdout"
        }
      ]
    },
    {
      "cell_type": "markdown",
      "metadata": {
        "id": "xgUzkSh7gREc",
        "colab_type": "text"
      },
      "source": [
        "\n",
        "\n",
        "---\n",
        "\n",
        "## 1.4 Extending the model "
      ]
    },
    {
      "cell_type": "code",
      "metadata": {
        "id": "BFqLBDjrc0_s",
        "colab_type": "code",
        "colab": {}
      },
      "source": [
        "auburn = True\n",
        "grey = False\n",
        "dagger = True\n",
        "gun = False\n",
        "hair_present = True\n",
        "hair_absent = False\n",
        "\n",
        "with pm.Model() as model:\n",
        "    murder = pm.Bernoulli('murder', 0.7)\n",
        "    \n",
        "    murder_weapon = pm.math.switch(murder, .8, .1)\n",
        "    weapon = pm.Bernoulli('weapon', murder_weapon, observed=gun)\n",
        "    \n",
        "    # Grey hair is conditional on murderer\n",
        "    # True: Hair present, False: Hair absent\n",
        "    grey_hair = pm.math.switch(murder, .05, .5)  \n",
        "    \n",
        "    # Conditioned on hair being present\n",
        "    hair = pm.Bernoulli('hair', grey_hair, observed=hair_present)\n",
        "\n",
        "    trace3 = pm.sample(5000, progressbar=False)"
      ],
      "execution_count": 0,
      "outputs": []
    },
    {
      "cell_type": "code",
      "metadata": {
        "id": "ea6E62S0hA_O",
        "colab_type": "code",
        "outputId": "0644c96f-3ac7-4f7f-bd7f-4f42c3e73e00",
        "colab": {
          "base_uri": "https://localhost:8080/",
          "height": 91
        }
      },
      "source": [
        "print('Conditional Probability of Murderer, given Gun and Grey hair \\n')\n",
        "print('P(Auburn | Gun, Hair) =', np.mean(trace3['murder']==auburn))\n",
        "print('P(Grey   | Gun, Hair) =', np.mean(trace3['murder']==grey))"
      ],
      "execution_count": 13,
      "outputs": [
        {
          "output_type": "stream",
          "text": [
            "Conditional Probability of Murderer, given Gun and Grey hair \n",
            "\n",
            "P(Auburn | Gun, Hair) = 0.053\n",
            "P(Grey   | Gun, Hair) = 0.947\n"
          ],
          "name": "stdout"
        }
      ]
    }
  ]
}